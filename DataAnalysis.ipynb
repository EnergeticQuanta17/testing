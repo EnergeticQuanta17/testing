{
  "nbformat": 4,
  "nbformat_minor": 0,
  "metadata": {
    "colab": {
      "provenance": [],
      "authorship_tag": "ABX9TyNBQghCUqoZRV5Ex04PUDQ/",
      "include_colab_link": true
    },
    "kernelspec": {
      "name": "python3",
      "display_name": "Python 3"
    },
    "language_info": {
      "name": "python"
    },
    "accelerator": "GPU",
    "gpuClass": "standard"
  },
  "cells": [
    {
      "cell_type": "markdown",
      "metadata": {
        "id": "view-in-github",
        "colab_type": "text"
      },
      "source": [
        "<a href=\"https://colab.research.google.com/github/EnergeticQuanta17/testing/blob/main/DataAnalysis.ipynb\" target=\"_parent\"><img src=\"https://colab.research.google.com/assets/colab-badge.svg\" alt=\"Open In Colab\"/></a>"
      ]
    },
    {
      "cell_type": "code",
      "execution_count": 2,
      "metadata": {
        "colab": {
          "base_uri": "https://localhost:8080/"
        },
        "id": "nFdcWhQ3rXwU",
        "outputId": "33feafe9-9605-4fdb-dfbd-699c264149f1"
      },
      "outputs": [
        {
          "output_type": "stream",
          "name": "stdout",
          "text": [
            "--2023-04-21 13:11:47--  https://s3-ap-southeast-1.amazonaws.com/he-public-data/datasetb2d9982.zip\n",
            "Resolving s3-ap-southeast-1.amazonaws.com (s3-ap-southeast-1.amazonaws.com)... 52.219.128.50\n",
            "Connecting to s3-ap-southeast-1.amazonaws.com (s3-ap-southeast-1.amazonaws.com)|52.219.128.50|:443... connected.\n",
            "HTTP request sent, awaiting response... 200 OK\n",
            "Length: 895569552 (854M) [binary/octet-stream]\n",
            "Saving to: ‘datasetb2d9982.zip’\n",
            "\n",
            "datasetb2d9982.zip  100%[===================>] 854.08M  95.5MB/s    in 8.9s    \n",
            "\n",
            "2023-04-21 13:11:56 (95.6 MB/s) - ‘datasetb2d9982.zip’ saved [895569552/895569552]\n",
            "\n",
            "Archive:  datasetb2d9982.zip\n",
            "   creating: dataset/dataset/\n",
            "  inflating: dataset/dataset/sample_submission.csv  \n",
            "  inflating: dataset/dataset/train.csv  \n",
            "  inflating: dataset/dataset/test.csv  \n"
          ]
        }
      ],
      "source": [
        "!wget https://s3-ap-southeast-1.amazonaws.com/he-public-data/datasetb2d9982.zip\n",
        "!unzip datasetb2d9982.zip -d dataset"
      ]
    },
    {
      "cell_type": "code",
      "source": [
        "!ls dataset/dataset"
      ],
      "metadata": {
        "colab": {
          "base_uri": "https://localhost:8080/"
        },
        "id": "pPxcTQ6nzdb7",
        "outputId": "6c7df3c6-9c23-48a3-9d78-f930541031d1"
      },
      "execution_count": 1,
      "outputs": [
        {
          "output_type": "stream",
          "name": "stdout",
          "text": [
            "sample_submission.csv  test.csv  train.csv\n"
          ]
        }
      ]
    },
    {
      "cell_type": "code",
      "source": [
        "import pandas as pd"
      ],
      "metadata": {
        "id": "hJnfGQDYrnuJ"
      },
      "execution_count": 2,
      "outputs": []
    },
    {
      "cell_type": "code",
      "source": [
        "train_df = pd.read_csv('dataset/dataset/train.csv', nrows=100)"
      ],
      "metadata": {
        "id": "-NGtODCZyRr5"
      },
      "execution_count": 3,
      "outputs": []
    },
    {
      "cell_type": "code",
      "source": [
        "full_train_df = pd.read_csv('dataset/dataset/train.csv')"
      ],
      "metadata": {
        "id": "Fm_jLyQDrgEc"
      },
      "execution_count": 4,
      "outputs": []
    },
    {
      "cell_type": "code",
      "source": [
        "%matplotlib inline\n",
        "import matplotlib.pyplot as plt"
      ],
      "metadata": {
        "id": "_rIpwthzriKn"
      },
      "execution_count": 5,
      "outputs": []
    },
    {
      "cell_type": "markdown",
      "source": [
        "Length of sentence for each TITLE"
      ],
      "metadata": {
        "id": "thU9xMuWu6Xg"
      }
    },
    {
      "cell_type": "code",
      "source": [
        "full_train_df.fillna('', inplace=True)"
      ],
      "metadata": {
        "id": "Pek9CKMh-YvW"
      },
      "execution_count": 6,
      "outputs": []
    },
    {
      "cell_type": "code",
      "source": [
        "word_lengths = [len(full_train_df.loc[i]['TITLE']) for i in range(len(full_train_df))]"
      ],
      "metadata": {
        "id": "sX06USUdtT7V"
      },
      "execution_count": 24,
      "outputs": []
    },
    {
      "cell_type": "code",
      "source": [
        "len(word_lengths)"
      ],
      "metadata": {
        "id": "lSOhvzxd81iO",
        "outputId": "18c42b85-a43f-4133-fbd0-eaca586a564b",
        "colab": {
          "base_uri": "https://localhost:8080/"
        }
      },
      "execution_count": 25,
      "outputs": [
        {
          "output_type": "execute_result",
          "data": {
            "text/plain": [
              "2249698"
            ]
          },
          "metadata": {},
          "execution_count": 25
        }
      ]
    },
    {
      "cell_type": "markdown",
      "source": [
        "# Histogram on len(TITLE)\n",
        "Using Freedman-Diaconis rule to find the optimal number of bins for a histogram"
      ],
      "metadata": {
        "id": "3YkwNUznvDvO"
      }
    },
    {
      "cell_type": "code",
      "source": [
        "import numpy as np\n",
        "q1, q3 = np.percentile(word_lengths, [25, 75])\n",
        "iqr = q3 - q1\n",
        "bin_width = 2 * iqr / (len(word_lengths) ** (1/3))\n",
        "\n",
        "# calculate number of bins\n",
        "max_val, min_val = np.max(word_lengths), np.min(word_lengths)\n",
        "num_bins = int((max_val - min_val) / bin_width)\n",
        "\n",
        "# plot histogram\n",
        "import matplotlib.pyplot as plt\n",
        "plt.hist(word_lengths, bins=num_bins)\n",
        "plt.show()"
      ],
      "metadata": {
        "colab": {
          "base_uri": "https://localhost:8080/",
          "height": 430
        },
        "id": "h2RzutMyr29G",
        "outputId": "53be0add-302e-458b-82e1-7ab1b2da274b"
      },
      "execution_count": 26,
      "outputs": [
        {
          "output_type": "display_data",
          "data": {
            "text/plain": [
              "<Figure size 640x480 with 1 Axes>"
            ],
            "image/png": "[encoded data removed]"
          },
          "metadata": {}
        }
      ]
    },
    {
      "cell_type": "markdown",
      "source": [
        "Histogram given the Column Name"
      ],
      "metadata": {
        "id": "hDgfV4izA03w"
      }
    },
    {
      "cell_type": "code",
      "source": [
        "import numpy as np\n",
        "def histogram_given_column(df, col_name):\n",
        "    print(df[col_name].dtype.kind)\n",
        "    if(df[col_name].dtype.kind not in ['i', 'O', 'f']):\n",
        "        word_lengths = [len(df.loc[i][col_name]) for i in range(len(df))]\n",
        "    else:\n",
        "        word_lengths = df[col_name]\n",
        "    \n",
        "    q1, q3 = np.percentile(word_lengths, [25, 75])\n",
        "    iqr = q3 - q1\n",
        "    bin_width = 2 * iqr / (len(word_lengths) ** (1/3))\n",
        "\n",
        "    # calculate number of bins\n",
        "    max_val, min_val = np.max(word_lengths), np.min(word_lengths)\n",
        "    num_bins = int((max_val - min_val) / bin_width)\n",
        "\n",
        "    # plot histogram\n",
        "    import matplotlib.pyplot as plt\n",
        "    plt.hist(word_lengths, bins=num_bins)\n",
        "    plt.show()"
      ],
      "metadata": {
        "id": "Dqxz7jWOsaJq"
      },
      "execution_count": 10,
      "outputs": []
    },
    {
      "cell_type": "code",
      "source": [
        "train_df.columns"
      ],
      "metadata": {
        "colab": {
          "base_uri": "https://localhost:8080/"
        },
        "id": "X9sAVbxpsy1G",
        "outputId": "3dafb4d7-25db-4d8f-f5db-c69d0abbc5a1"
      },
      "execution_count": 11,
      "outputs": [
        {
          "output_type": "execute_result",
          "data": {
            "text/plain": [
              "Index(['PRODUCT_ID', 'TITLE', 'BULLET_POINTS', 'DESCRIPTION',\n",
              "       'PRODUCT_TYPE_ID', 'PRODUCT_LENGTH'],\n",
              "      dtype='object')"
            ]
          },
          "metadata": {},
          "execution_count": 11
        }
      ]
    },
    {
      "cell_type": "code",
      "source": [
        "histogram_given_column(full_train_df, 'PRODUCT_LENGTH')"
      ],
      "metadata": {
        "colab": {
          "base_uri": "https://localhost:8080/"
        },
        "id": "ZHmnaPdevo9Y",
        "outputId": "a332b056-0bee-4f41-f408-e8eb720214d7"
      },
      "execution_count": null,
      "outputs": [
        {
          "output_type": "stream",
          "name": "stdout",
          "text": [
            "f\n"
          ]
        }
      ]
    },
    {
      "cell_type": "markdown",
      "source": [
        "Number of NAN values in Columns"
      ],
      "metadata": {
        "id": "ZFTPHqOjzQkm"
      }
    },
    {
      "cell_type": "code",
      "source": [
        "nan_counts = full_train_df.isna().sum()\n",
        "plt.barh(nan_counts.index, nan_counts.values)\n",
        "plt.title('Number of NaN values in each column')\n",
        "plt.xlabel('Count of NaN values')\n",
        "plt.ylabel('Columns')\n",
        "plt.show()"
      ],
      "metadata": {
        "colab": {
          "base_uri": "https://localhost:8080/",
          "height": 472
        },
        "id": "GfyuVtZjwgSI",
        "outputId": "14ffcd2e-753f-43f2-8370-2410c4e8f815"
      },
      "execution_count": 14,
      "outputs": [
        {
          "output_type": "display_data",
          "data": {
            "text/plain": [
              "<Figure size 640x480 with 1 Axes>"
            ],
            "image/png": "[encoded data removed]"
          },
          "metadata": {}
        }
      ]
    },
    {
      "cell_type": "code",
      "source": [
        "nan_counts"
      ],
      "metadata": {
        "colab": {
          "base_uri": "https://localhost:8080/"
        },
        "id": "x8wE0na0z5PZ",
        "outputId": "4e37fd56-deb2-40f9-c07c-2f1749132fe0"
      },
      "execution_count": 16,
      "outputs": [
        {
          "output_type": "execute_result",
          "data": {
            "text/plain": [
              "PRODUCT_ID            0\n",
              "TITLE                 0\n",
              "BULLET_POINTS      3700\n",
              "DESCRIPTION        5176\n",
              "PRODUCT_TYPE_ID       0\n",
              "PRODUCT_LENGTH        0\n",
              "dtype: int64"
            ]
          },
          "metadata": {},
          "execution_count": 16
        }
      ]
    },
    {
      "cell_type": "code",
      "source": [],
      "metadata": {
        "id": "8fpYPbKk2NwD"
      },
      "execution_count": null,
      "outputs": []
    }
  ]
}